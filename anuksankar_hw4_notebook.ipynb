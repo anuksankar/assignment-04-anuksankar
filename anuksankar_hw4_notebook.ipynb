{
 "cells": [
  {
   "cell_type": "markdown",
   "metadata": {},
   "source": [
    "## Query Project \n",
    "### W205 - Assignment 4 \n",
    "#### Anu Sankar "
   ]
  },
  {
   "cell_type": "markdown",
   "metadata": {},
   "source": [
    "Ford GoBike (https://www.fordgobike.com/), the company running Bay Area Bikeshare is trying to increase ridership, and would want to offer deals through the mobile app to do so. Currently, the company has three options: a flat price for a single one-way trip, a day pass that allows unlimited 30-minute rides for 24 hours and an annual membership.  \n",
    "\n",
    "In this project, the Bay Area Bike Share Trips Data (https://cloud.google.com/bigquery/public-data/bay-bike-share) will be analyzed to answer these questions:\n",
    "\n",
    "1. What are the 5 most popular trips that you would call \"commuter trips\"?\n",
    "2. What are your recommendations for offers (justify based on your findings)?"
   ]
  },
  {
   "cell_type": "code",
   "execution_count": 1,
   "metadata": {},
   "outputs": [],
   "source": [
    "import pandas as pd\n",
    "%matplotlib inline"
   ]
  },
  {
   "cell_type": "code",
   "execution_count": 4,
   "metadata": {
    "scrolled": true
   },
   "outputs": [
    {
     "name": "stdout",
     "output_type": "stream",
     "text": [
      "Waiting on bqjob_r55c17968553c4708_000001663b7d47c7_1 ... (0s) Current status: DONE   \n",
      "+--------+\n",
      "|  f0_   |\n",
      "+--------+\n",
      "| 983648 |\n",
      "+--------+\n"
     ]
    }
   ],
   "source": [
    "! bq query --use_legacy_sql=false 'SELECT count(*) FROM `bigquery-public-data.san_francisco.bikeshare_trips`'"
   ]
  },
  {
   "cell_type": "code",
   "execution_count": 6,
   "metadata": {},
   "outputs": [
    {
     "name": "stdout",
     "output_type": "stream",
     "text": [
      "Waiting on bqjob_r7e870c002024d529_000001663b7e6dfc_1 ... (1s) Current status: DONE   \n",
      "+-------------+----------+\n",
      "| early_start | late_end |\n",
      "+-------------+----------+\n",
      "|    00:00:00 | 23:59:00 |\n",
      "+-------------+----------+\n"
     ]
    }
   ],
   "source": [
    "! bq query --use_legacy_sql=false 'SELECT MIN(TIME(start_date)) as early_start, MAX(TIME(end_date)) as late_end FROM `bigquery-public-data.san_francisco.bikeshare_trips`'"
   ]
  },
  {
   "cell_type": "code",
   "execution_count": 7,
   "metadata": {},
   "outputs": [
    {
     "name": "stdout",
     "output_type": "stream",
     "text": [
      "Waiting on bqjob_r7295c6502ce67405_000001663b7f5f2c_1 ... (0s) Current status: DONE   \n",
      "+-----+\n",
      "| f0_ |\n",
      "+-----+\n",
      "| 700 |\n",
      "+-----+\n"
     ]
    }
   ],
   "source": [
    "! bq query --use_legacy_sql=false 'SELECT count(distinct(bike_number)) FROM `bigquery-public-data.san_francisco.bikeshare_trips`'"
   ]
  },
  {
   "cell_type": "code",
   "execution_count": null,
   "metadata": {},
   "outputs": [],
   "source": []
  }
 ],
 "metadata": {
  "kernelspec": {
   "display_name": "Python 3",
   "language": "python",
   "name": "python3"
  },
  "language_info": {
   "codemirror_mode": {
    "name": "ipython",
    "version": 3
   },
   "file_extension": ".py",
   "mimetype": "text/x-python",
   "name": "python",
   "nbconvert_exporter": "python",
   "pygments_lexer": "ipython3",
   "version": "3.5.2"
  }
 },
 "nbformat": 4,
 "nbformat_minor": 2
}
