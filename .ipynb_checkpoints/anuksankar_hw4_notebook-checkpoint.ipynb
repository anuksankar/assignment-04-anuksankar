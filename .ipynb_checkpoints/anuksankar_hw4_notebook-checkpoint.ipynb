{
 "cells": [
  {
   "cell_type": "markdown",
   "metadata": {},
   "source": [
    "## Query Project \n",
    "### W205 - Assignment 4 \n",
    "#### Anu Sankar "
   ]
  },
  {
   "cell_type": "markdown",
   "metadata": {},
   "source": [
    "Ford GoBike (https://www.fordgobike.com/), the company running Bay Area Bikeshare is trying to increase ridership, and would want to offer deals through the mobile app to do so. Currently, the company has three options: a flat price for a single one-way trip, a day pass that allows unlimited 30-minute rides for 24 hours and an annual membership.  \n",
    "\n",
    "In this project, the Bay Area Bike Share Trips Data (https://cloud.google.com/bigquery/public-data/bay-bike-share) will be analyzed to answer these questions:\n",
    "\n",
    "1. What are the 5 most popular trips that you would call \"commuter trips\"?\n",
    "2. What are your recommendations for offers (justify based on your findings)?"
   ]
  },
  {
   "cell_type": "markdown",
   "metadata": {},
   "source": [
    "The analysis was performed by querying the dataset, creating csv format files and then analyzing the csv data using pandas and matplotlib libraries in this Jupyter Notebook.\n",
    "\n",
    "#### Research questions that were addressed in the analysis:\n",
    "\n",
    "1: How many trips are in the morning vs. evening?\n",
    "\n",
    "2: What are the peak hours? Summarize by weekday / weekend.\n",
    "\n",
    "3: What are the different values for subscriber_type? How many trips do each type of subscriber make by year?\n",
    "\n",
    "4: What is the bike utilization?\n",
    "\n",
    "5: What are the top 5 popular trips commuter trips?\n",
    "\n",
    "6: What are the 5 subscriber only commuter trips?\n",
    "\n",
    "#### Recommendations:\n",
    "\n",
    "1: Charge \\$3 for the first 30 mins (as per current charges) and charge $2 every additional 30 mins.\n",
    "\n",
    "2: Offer loyalty points.  Every trip is counted as 1 point.  When customer earns 200 points, they can get 1 month free subscription.\n"
   ]
  },
  {
   "cell_type": "code",
   "execution_count": 37,
   "metadata": {},
   "outputs": [],
   "source": [
    "import pandas as pd\n",
    "%matplotlib inline \n",
    "import matplotlib.pyplot as plt"
   ]
  },
  {
   "cell_type": "markdown",
   "metadata": {},
   "source": [
    "### Load Dataset and Verify "
   ]
  },
  {
   "cell_type": "markdown",
   "metadata": {},
   "source": [
    "#### What's the size of this dataset? (i.e., how many trips)"
   ]
  },
  {
   "cell_type": "code",
   "execution_count": 38,
   "metadata": {
    "scrolled": true
   },
   "outputs": [
    {
     "name": "stdout",
     "output_type": "stream",
     "text": [
      "Waiting on bqjob_r5dbce254d8ad1fc8_00000166538d0528_1 ... (0s) Current status: DONE   \n",
      "+-----------+\n",
      "| num_trips |\n",
      "+-----------+\n",
      "|    983648 |\n",
      "+-----------+\n"
     ]
    }
   ],
   "source": [
    "! bq query --use_legacy_sql=false 'SELECT count(*) as num_trips FROM `bigquery-public-data.san_francisco.bikeshare_trips` '"
   ]
  },
  {
   "cell_type": "markdown",
   "metadata": {},
   "source": [
    "#### What is the earliest start time and latest end time for a trip?"
   ]
  },
  {
   "cell_type": "code",
   "execution_count": 39,
   "metadata": {},
   "outputs": [
    {
     "name": "stdout",
     "output_type": "stream",
     "text": [
      "Waiting on bqjob_r26e866ba81d25414_00000166538d33c0_1 ... (1s) Current status: DONE   \n",
      "+-------------+----------+\n",
      "| early_start | late_end |\n",
      "+-------------+----------+\n",
      "|    00:00:00 | 23:59:00 |\n",
      "+-------------+----------+\n"
     ]
    }
   ],
   "source": [
    "! bq query --use_legacy_sql=false 'SELECT MIN(TIME(start_date)) as early_start, MAX(TIME(end_date)) as late_end FROM `bigquery-public-data.san_francisco.bikeshare_trips`'"
   ]
  },
  {
   "cell_type": "markdown",
   "metadata": {},
   "source": [
    "#### How many bikes are there?"
   ]
  },
  {
   "cell_type": "code",
   "execution_count": 41,
   "metadata": {},
   "outputs": [
    {
     "name": "stdout",
     "output_type": "stream",
     "text": [
      "Waiting on bqjob_r34f59f60be7a4d80_000001665391e533_1 ... (0s) Current status: DONE   \n",
      "+-----------+\n",
      "| num_bikes |\n",
      "+-----------+\n",
      "|       700 |\n",
      "+-----------+\n"
     ]
    }
   ],
   "source": [
    "! bq query --use_legacy_sql=false 'SELECT count(distinct(bike_number)) as num_bikes FROM `bigquery-public-data.san_francisco.bikeshare_trips`'"
   ]
  },
  {
   "cell_type": "markdown",
   "metadata": {},
   "source": [
    "### Research Questions"
   ]
  },
  {
   "cell_type": "markdown",
   "metadata": {},
   "source": [
    "#### How many trips are in the morning vs in the afternoon?"
   ]
  },
  {
   "cell_type": "code",
   "execution_count": 42,
   "metadata": {},
   "outputs": [
    {
     "name": "stdout",
     "output_type": "stream",
     "text": [
      "Waiting on bqjob_r6272596ec80e17c5_0000016653922d94_1 ... (0s) Current status: DONE   \n",
      "+-----------+-----------+\n",
      "| trip_hour | num_trips |\n",
      "+-----------+-----------+\n",
      "| Morning   |    412339 |\n",
      "| Evening   |    571309 |\n",
      "+-----------+-----------+\n"
     ]
    }
   ],
   "source": [
    "! bq query --use_legacy_sql=false 'SELECT \"Morning\" AS trip_hour, COUNT(*) as num_trips FROM `bigquery-public-data.san_francisco.bikeshare_trips` WHERE EXTRACT(HOUR FROM start_date) < 12 GROUP BY trip_hour UNION ALL SELECT \"Evening\" AS trip_hour, COUNT(*) as num_trips FROM `bigquery-public-data.san_francisco.bikeshare_trips` WHERE EXTRACT(HOUR FROM start_date) >= 12 GROUP BY trip_hour ORDER BY trip_hour DESC'"
   ]
  },
  {
   "cell_type": "markdown",
   "metadata": {},
   "source": [
    "#### Trips by hour of day\n",
    "\n",
    "We are interested in knowing the peak hours of the day.  So, we have queried the dataset and reported with a bar chart to show that 8 am and 5 pm are peak hours."
   ]
  },
  {
   "cell_type": "code",
   "execution_count": 24,
   "metadata": {},
   "outputs": [
    {
     "name": "stdout",
     "output_type": "stream",
     "text": [
      "Waiting on bqjob_r3d307653e6230ff3_0000016652110a99_1 ... (1s) Current status: DONE   "
     ]
    }
   ],
   "source": [
    "! bq query --use_legacy_sql=false --format=csv 'SELECT EXTRACT(HOUR FROM start_date) as trip_hour, count(*) as num_trips FROM `bigquery-public-data.san_francisco.bikeshare_trips` GROUP BY trip_hour ORDER BY trip_hour' > trip_by_hod.csv"
   ]
  },
  {
   "cell_type": "code",
   "execution_count": 3,
   "metadata": {},
   "outputs": [],
   "source": [
    "df_trips_by_hod = pd.read_csv('trip_by_hod.csv')"
   ]
  },
  {
   "cell_type": "code",
   "execution_count": 6,
   "metadata": {},
   "outputs": [
    {
     "data": {
      "text/plain": [
       "Text(0,0.5,'Number of Trips')"
      ]
     },
     "execution_count": 6,
     "metadata": {},
     "output_type": "execute_result"
    },
    {
     "data": {
      "image/png": "[encoded data removed]",
      "text/plain": [
       "<Figure size 432x288 with 1 Axes>"
      ]
     },
     "metadata": {},
     "output_type": "display_data"
    }
   ],
   "source": [
    "ax = df_trips_by_hod.plot(kind='bar',x='trip_hour',rot=0,y='num_trips',title='Number of Trips by Hour of Day',legend=False)\n",
    "ax.set_xlabel(\"Hour of Day\")\n",
    "ax.set_ylabel(\"Number of Trips\")"
   ]
  },
  {
   "cell_type": "markdown",
   "metadata": {},
   "source": [
    "We would like to see if the weekday vs. weekend patterns of peak hours change.  But we can observe that they have remained the same as the overall observed peaks of 8 am and 5 pm."
   ]
  },
  {
   "cell_type": "code",
   "execution_count": 46,
   "metadata": {},
   "outputs": [
    {
     "name": "stdout",
     "output_type": "stream",
     "text": [
      "Waiting on bqjob_r4371ccfe313cde4f_000001665399e646_1 ... (1s) Current status: DONE   "
     ]
    }
   ],
   "source": [
    "! bq query --use_legacy_sql=false --format=csv 'SELECT EXTRACT(HOUR FROM start_date) as trip_hour, count(*) as num_trips FROM `bigquery-public-data.san_francisco.bikeshare_trips` WHERE EXTRACT(DAY FROM start_date) between 2 and 6 GROUP BY trip_hour ORDER BY trip_hour' > weekdays.csv"
   ]
  },
  {
   "cell_type": "code",
   "execution_count": 47,
   "metadata": {},
   "outputs": [],
   "source": [
    "df_weekdays = pd.read_csv('weekdays.csv')"
   ]
  },
  {
   "cell_type": "code",
   "execution_count": 48,
   "metadata": {},
   "outputs": [
    {
     "data": {
      "text/plain": [
       "Text(0,0.5,'Number of Trips')"
      ]
     },
     "execution_count": 48,
     "metadata": {},
     "output_type": "execute_result"
    },
    {
     "data": {
      "image/png": "[encoded data removed]",
      "text/plain": [
       "<Figure size 432x288 with 1 Axes>"
      ]
     },
     "metadata": {},
     "output_type": "display_data"
    }
   ],
   "source": [
    "ax = df_weekdays.plot(kind='bar',x='trip_hour',rot=0,y='num_trips',title='Number of Weekday Trips by Hour of Day',legend=False)\n",
    "ax.set_xlabel(\"Hour of Day\")\n",
    "ax.set_ylabel(\"Number of Trips\")"
   ]
  },
  {
   "cell_type": "code",
   "execution_count": 49,
   "metadata": {},
   "outputs": [
    {
     "name": "stdout",
     "output_type": "stream",
     "text": [
      "Waiting on bqjob_r26bea5f2608bc189_00000166539bb63c_1 ... (1s) Current status: DONE   "
     ]
    }
   ],
   "source": [
    "! bq query --use_legacy_sql=false --format=csv 'SELECT EXTRACT(HOUR FROM start_date) as trip_hour, count(*) as num_trips FROM `bigquery-public-data.san_francisco.bikeshare_trips` WHERE EXTRACT(DAY FROM start_date) = 1 OR EXTRACT(DAY FROM start_date) = 7 GROUP BY trip_hour ORDER BY trip_hour' > weekends.csv"
   ]
  },
  {
   "cell_type": "code",
   "execution_count": 50,
   "metadata": {},
   "outputs": [],
   "source": [
    "df_weekends = pd.read_csv('weekends.csv')"
   ]
  },
  {
   "cell_type": "code",
   "execution_count": 51,
   "metadata": {},
   "outputs": [
    {
     "data": {
      "text/plain": [
       "Text(0,0.5,'Number of Trips')"
      ]
     },
     "execution_count": 51,
     "metadata": {},
     "output_type": "execute_result"
    },
    {
     "data": {
      "image/png": "[encoded data removed]",
      "text/plain": [
       "<Figure size 432x288 with 1 Axes>"
      ]
     },
     "metadata": {},
     "output_type": "display_data"
    }
   ],
   "source": [
    "ax = df_weekends.plot(kind='bar',x='trip_hour',rot=0,y='num_trips',title='Number of Weekday Trips by Hour of Day',legend=False)\n",
    "ax.set_xlabel(\"Hour of Day\")\n",
    "ax.set_ylabel(\"Number of Trips\")"
   ]
  },
  {
   "cell_type": "markdown",
   "metadata": {},
   "source": [
    "#### What are the different values for subscriber_type? How many trips do each type of subscriber make by year?"
   ]
  },
  {
   "cell_type": "code",
   "execution_count": 23,
   "metadata": {},
   "outputs": [
    {
     "name": "stdout",
     "output_type": "stream",
     "text": [
      "Waiting on bqjob_r537b1d1890edf21b_000001665373f2d4_1 ... (1s) Current status: DONE   "
     ]
    }
   ],
   "source": [
    "! bq query --use_legacy_sql=false --format=csv 'SELECT subscriber_type, EXTRACT(YEAR FROM start_date) as Yr, COUNT(*) num_trips FROM `bigquery-public-data.san_francisco.bikeshare_trips` GROUP BY subscriber_type, Yr ORDER BY Yr DESC, subscriber_type ' > cust_type.csv"
   ]
  },
  {
   "cell_type": "code",
   "execution_count": 24,
   "metadata": {},
   "outputs": [
    {
     "data": {
      "text/html": [
       "<div>\n",
       "<style scoped>\n",
       "    .dataframe tbody tr th:only-of-type {\n",
       "        vertical-align: middle;\n",
       "    }\n",
       "\n",
       "    .dataframe tbody tr th {\n",
       "        vertical-align: top;\n",
       "    }\n",
       "\n",
       "    .dataframe thead th {\n",
       "        text-align: right;\n",
       "    }\n",
       "</style>\n",
       "<table border=\"1\" class=\"dataframe\">\n",
       "  <thead>\n",
       "    <tr style=\"text-align: right;\">\n",
       "      <th></th>\n",
       "      <th>subscriber_type</th>\n",
       "      <th>Yr</th>\n",
       "      <th>num_trips</th>\n",
       "    </tr>\n",
       "  </thead>\n",
       "  <tbody>\n",
       "    <tr>\n",
       "      <th>0</th>\n",
       "      <td>Customer</td>\n",
       "      <td>2016</td>\n",
       "      <td>23204</td>\n",
       "    </tr>\n",
       "    <tr>\n",
       "      <th>1</th>\n",
       "      <td>Subscriber</td>\n",
       "      <td>2016</td>\n",
       "      <td>187290</td>\n",
       "    </tr>\n",
       "    <tr>\n",
       "      <th>2</th>\n",
       "      <td>Customer</td>\n",
       "      <td>2015</td>\n",
       "      <td>40530</td>\n",
       "    </tr>\n",
       "    <tr>\n",
       "      <th>3</th>\n",
       "      <td>Subscriber</td>\n",
       "      <td>2015</td>\n",
       "      <td>305722</td>\n",
       "    </tr>\n",
       "    <tr>\n",
       "      <th>4</th>\n",
       "      <td>Customer</td>\n",
       "      <td>2014</td>\n",
       "      <td>48576</td>\n",
       "    </tr>\n",
       "    <tr>\n",
       "      <th>5</th>\n",
       "      <td>Subscriber</td>\n",
       "      <td>2014</td>\n",
       "      <td>277763</td>\n",
       "    </tr>\n",
       "    <tr>\n",
       "      <th>6</th>\n",
       "      <td>Customer</td>\n",
       "      <td>2013</td>\n",
       "      <td>24499</td>\n",
       "    </tr>\n",
       "    <tr>\n",
       "      <th>7</th>\n",
       "      <td>Subscriber</td>\n",
       "      <td>2013</td>\n",
       "      <td>76064</td>\n",
       "    </tr>\n",
       "  </tbody>\n",
       "</table>\n",
       "</div>"
      ],
      "text/plain": [
       "  subscriber_type    Yr  num_trips\n",
       "0        Customer  2016      23204\n",
       "1      Subscriber  2016     187290\n",
       "2        Customer  2015      40530\n",
       "3      Subscriber  2015     305722\n",
       "4        Customer  2014      48576\n",
       "5      Subscriber  2014     277763\n",
       "6        Customer  2013      24499\n",
       "7      Subscriber  2013      76064"
      ]
     },
     "execution_count": 24,
     "metadata": {},
     "output_type": "execute_result"
    }
   ],
   "source": [
    "df_cust_type = pd.read_csv('cust_type.csv')\n",
    "df_cust_type"
   ]
  },
  {
   "cell_type": "code",
   "execution_count": 36,
   "metadata": {},
   "outputs": [
    {
     "data": {
      "text/plain": [
       "Text(0,0.5,'Number of Trips')"
      ]
     },
     "execution_count": 36,
     "metadata": {},
     "output_type": "execute_result"
    },
    {
     "data": {
      "image/png": "[encoded data removed]",
      "text/plain": [
       "<Figure size 432x288 with 1 Axes>"
      ]
     },
     "metadata": {},
     "output_type": "display_data"
    },
    {
     "data": {
      "image/png": "[encoded data removed]",
      "text/plain": [
       "<Figure size 432x288 with 1 Axes>"
      ]
     },
     "metadata": {},
     "output_type": "display_data"
    }
   ],
   "source": [
    "customer = df_cust_type[df_cust_type.subscriber_type == 'Customer']\n",
    "subscriber = df_cust_type[df_cust_type.subscriber_type == 'Subscriber']\n",
    "\n",
    "\n",
    "ax = customer.plot(kind='bar',x='Yr',rot=0,y='num_trips',title='Number of Trips by Year - Subscriber',legend=False)\n",
    "ax = subscriber.plot(kind='bar',x='Yr',rot=0,y='num_trips',title='Number of Trips by Year - Subscriber',legend=False)\n",
    "\n",
    "ax.set_xlabel(\"Year\")\n",
    "ax.set_ylabel(\"Number of Trips\")\n"
   ]
  },
  {
   "cell_type": "markdown",
   "metadata": {},
   "source": [
    "#### What is the bike utilization?\n",
    "\n",
    "* Number of trips per month by year"
   ]
  },
  {
   "cell_type": "code",
   "execution_count": 10,
   "metadata": {
    "scrolled": true
   },
   "outputs": [
    {
     "name": "stdout",
     "output_type": "stream",
     "text": [
      "\r",
      "Waiting on bqjob_r16c1b9c69e487d13_0000016651fd39be_1 ... (0s) Current status: DONE   "
     ]
    }
   ],
   "source": [
    "! bq query --use_legacy_sql=false --format=csv 'SELECT EXTRACT(MONTH from start_date) as trip_month, EXTRACT(YEAR from start_date) as trip_year, count(*) as num_trips FROM `bigquery-public-data.san_francisco.bikeshare_trips` GROUP BY trip_month, trip_year ORDER BY trip_month DESC, trip_year DESC' > bike_utilization.csv"
   ]
  },
  {
   "cell_type": "code",
   "execution_count": 14,
   "metadata": {},
   "outputs": [],
   "source": [
    "df_bike_util = pd.read_csv('bike_utilization.csv')"
   ]
  },
  {
   "cell_type": "code",
   "execution_count": 15,
   "metadata": {
    "scrolled": false
   },
   "outputs": [
    {
     "data": {
      "text/html": [
       "<div>\n",
       "<style scoped>\n",
       "    .dataframe tbody tr th:only-of-type {\n",
       "        vertical-align: middle;\n",
       "    }\n",
       "\n",
       "    .dataframe tbody tr th {\n",
       "        vertical-align: top;\n",
       "    }\n",
       "\n",
       "    .dataframe thead th {\n",
       "        text-align: right;\n",
       "    }\n",
       "</style>\n",
       "<table border=\"1\" class=\"dataframe\">\n",
       "  <thead>\n",
       "    <tr style=\"text-align: right;\">\n",
       "      <th></th>\n",
       "      <th>trip_month</th>\n",
       "      <th>trip_year</th>\n",
       "      <th>num_trips</th>\n",
       "    </tr>\n",
       "  </thead>\n",
       "  <tbody>\n",
       "    <tr>\n",
       "      <th>0</th>\n",
       "      <td>12</td>\n",
       "      <td>2015</td>\n",
       "      <td>18390</td>\n",
       "    </tr>\n",
       "    <tr>\n",
       "      <th>1</th>\n",
       "      <td>12</td>\n",
       "      <td>2014</td>\n",
       "      <td>19677</td>\n",
       "    </tr>\n",
       "    <tr>\n",
       "      <th>2</th>\n",
       "      <td>12</td>\n",
       "      <td>2013</td>\n",
       "      <td>19894</td>\n",
       "    </tr>\n",
       "    <tr>\n",
       "      <th>3</th>\n",
       "      <td>11</td>\n",
       "      <td>2015</td>\n",
       "      <td>23356</td>\n",
       "    </tr>\n",
       "    <tr>\n",
       "      <th>4</th>\n",
       "      <td>11</td>\n",
       "      <td>2014</td>\n",
       "      <td>25516</td>\n",
       "    </tr>\n",
       "    <tr>\n",
       "      <th>5</th>\n",
       "      <td>11</td>\n",
       "      <td>2013</td>\n",
       "      <td>24219</td>\n",
       "    </tr>\n",
       "    <tr>\n",
       "      <th>6</th>\n",
       "      <td>10</td>\n",
       "      <td>2015</td>\n",
       "      <td>31053</td>\n",
       "    </tr>\n",
       "    <tr>\n",
       "      <th>7</th>\n",
       "      <td>10</td>\n",
       "      <td>2014</td>\n",
       "      <td>34220</td>\n",
       "    </tr>\n",
       "    <tr>\n",
       "      <th>8</th>\n",
       "      <td>10</td>\n",
       "      <td>2013</td>\n",
       "      <td>29105</td>\n",
       "    </tr>\n",
       "    <tr>\n",
       "      <th>9</th>\n",
       "      <td>9</td>\n",
       "      <td>2015</td>\n",
       "      <td>30396</td>\n",
       "    </tr>\n",
       "    <tr>\n",
       "      <th>10</th>\n",
       "      <td>9</td>\n",
       "      <td>2014</td>\n",
       "      <td>31682</td>\n",
       "    </tr>\n",
       "    <tr>\n",
       "      <th>11</th>\n",
       "      <td>9</td>\n",
       "      <td>2013</td>\n",
       "      <td>25243</td>\n",
       "    </tr>\n",
       "    <tr>\n",
       "      <th>12</th>\n",
       "      <td>8</td>\n",
       "      <td>2016</td>\n",
       "      <td>30355</td>\n",
       "    </tr>\n",
       "    <tr>\n",
       "      <th>13</th>\n",
       "      <td>8</td>\n",
       "      <td>2015</td>\n",
       "      <td>31904</td>\n",
       "    </tr>\n",
       "    <tr>\n",
       "      <th>14</th>\n",
       "      <td>8</td>\n",
       "      <td>2014</td>\n",
       "      <td>31215</td>\n",
       "    </tr>\n",
       "    <tr>\n",
       "      <th>15</th>\n",
       "      <td>8</td>\n",
       "      <td>2013</td>\n",
       "      <td>2102</td>\n",
       "    </tr>\n",
       "    <tr>\n",
       "      <th>16</th>\n",
       "      <td>7</td>\n",
       "      <td>2016</td>\n",
       "      <td>25784</td>\n",
       "    </tr>\n",
       "    <tr>\n",
       "      <th>17</th>\n",
       "      <td>7</td>\n",
       "      <td>2015</td>\n",
       "      <td>32476</td>\n",
       "    </tr>\n",
       "    <tr>\n",
       "      <th>18</th>\n",
       "      <td>7</td>\n",
       "      <td>2014</td>\n",
       "      <td>31279</td>\n",
       "    </tr>\n",
       "    <tr>\n",
       "      <th>19</th>\n",
       "      <td>6</td>\n",
       "      <td>2016</td>\n",
       "      <td>29783</td>\n",
       "    </tr>\n",
       "    <tr>\n",
       "      <th>20</th>\n",
       "      <td>6</td>\n",
       "      <td>2015</td>\n",
       "      <td>31907</td>\n",
       "    </tr>\n",
       "    <tr>\n",
       "      <th>21</th>\n",
       "      <td>6</td>\n",
       "      <td>2014</td>\n",
       "      <td>29982</td>\n",
       "    </tr>\n",
       "    <tr>\n",
       "      <th>22</th>\n",
       "      <td>5</td>\n",
       "      <td>2016</td>\n",
       "      <td>28322</td>\n",
       "    </tr>\n",
       "    <tr>\n",
       "      <th>23</th>\n",
       "      <td>5</td>\n",
       "      <td>2015</td>\n",
       "      <td>29540</td>\n",
       "    </tr>\n",
       "    <tr>\n",
       "      <th>24</th>\n",
       "      <td>5</td>\n",
       "      <td>2014</td>\n",
       "      <td>28502</td>\n",
       "    </tr>\n",
       "    <tr>\n",
       "      <th>25</th>\n",
       "      <td>4</td>\n",
       "      <td>2016</td>\n",
       "      <td>26612</td>\n",
       "    </tr>\n",
       "    <tr>\n",
       "      <th>26</th>\n",
       "      <td>4</td>\n",
       "      <td>2015</td>\n",
       "      <td>31363</td>\n",
       "    </tr>\n",
       "    <tr>\n",
       "      <th>27</th>\n",
       "      <td>4</td>\n",
       "      <td>2014</td>\n",
       "      <td>26221</td>\n",
       "    </tr>\n",
       "    <tr>\n",
       "      <th>28</th>\n",
       "      <td>3</td>\n",
       "      <td>2016</td>\n",
       "      <td>25558</td>\n",
       "    </tr>\n",
       "    <tr>\n",
       "      <th>29</th>\n",
       "      <td>3</td>\n",
       "      <td>2015</td>\n",
       "      <td>31626</td>\n",
       "    </tr>\n",
       "    <tr>\n",
       "      <th>30</th>\n",
       "      <td>3</td>\n",
       "      <td>2014</td>\n",
       "      <td>24593</td>\n",
       "    </tr>\n",
       "    <tr>\n",
       "      <th>31</th>\n",
       "      <td>2</td>\n",
       "      <td>2016</td>\n",
       "      <td>24560</td>\n",
       "    </tr>\n",
       "    <tr>\n",
       "      <th>32</th>\n",
       "      <td>2</td>\n",
       "      <td>2015</td>\n",
       "      <td>26401</td>\n",
       "    </tr>\n",
       "    <tr>\n",
       "      <th>33</th>\n",
       "      <td>2</td>\n",
       "      <td>2014</td>\n",
       "      <td>19024</td>\n",
       "    </tr>\n",
       "    <tr>\n",
       "      <th>34</th>\n",
       "      <td>1</td>\n",
       "      <td>2016</td>\n",
       "      <td>19520</td>\n",
       "    </tr>\n",
       "    <tr>\n",
       "      <th>35</th>\n",
       "      <td>1</td>\n",
       "      <td>2015</td>\n",
       "      <td>27840</td>\n",
       "    </tr>\n",
       "    <tr>\n",
       "      <th>36</th>\n",
       "      <td>1</td>\n",
       "      <td>2014</td>\n",
       "      <td>24428</td>\n",
       "    </tr>\n",
       "  </tbody>\n",
       "</table>\n",
       "</div>"
      ],
      "text/plain": [
       "    trip_month  trip_year  num_trips\n",
       "0           12       2015      18390\n",
       "1           12       2014      19677\n",
       "2           12       2013      19894\n",
       "3           11       2015      23356\n",
       "4           11       2014      25516\n",
       "5           11       2013      24219\n",
       "6           10       2015      31053\n",
       "7           10       2014      34220\n",
       "8           10       2013      29105\n",
       "9            9       2015      30396\n",
       "10           9       2014      31682\n",
       "11           9       2013      25243\n",
       "12           8       2016      30355\n",
       "13           8       2015      31904\n",
       "14           8       2014      31215\n",
       "15           8       2013       2102\n",
       "16           7       2016      25784\n",
       "17           7       2015      32476\n",
       "18           7       2014      31279\n",
       "19           6       2016      29783\n",
       "20           6       2015      31907\n",
       "21           6       2014      29982\n",
       "22           5       2016      28322\n",
       "23           5       2015      29540\n",
       "24           5       2014      28502\n",
       "25           4       2016      26612\n",
       "26           4       2015      31363\n",
       "27           4       2014      26221\n",
       "28           3       2016      25558\n",
       "29           3       2015      31626\n",
       "30           3       2014      24593\n",
       "31           2       2016      24560\n",
       "32           2       2015      26401\n",
       "33           2       2014      19024\n",
       "34           1       2016      19520\n",
       "35           1       2015      27840\n",
       "36           1       2014      24428"
      ]
     },
     "execution_count": 15,
     "metadata": {},
     "output_type": "execute_result"
    }
   ],
   "source": [
    "df_bike_util"
   ]
  },
  {
   "cell_type": "markdown",
   "metadata": {},
   "source": [
    "From the above, we can see that the number of trips have reduced in the year 2016.  August 2016 is the last month of data that is available.  So, in the next query we will see the average utilization of the bikes for the month of August 2016."
   ]
  },
  {
   "cell_type": "code",
   "execution_count": 18,
   "metadata": {},
   "outputs": [
    {
     "name": "stdout",
     "output_type": "stream",
     "text": [
      "Waiting on bqjob_r957d0d8f01db82b_0000016652097af2_1 ... (1s) Current status: DONE   "
     ]
    }
   ],
   "source": [
    "! bq query --use_legacy_sql=false --format=csv 'SELECT start_station_name, end_station_name, COUNT(*) AS total_trips, ROUND(SUM(duration_sec)/60, 0) as total_time, COUNT(DISTINCT(bike_number)) AS unique_bikes, ROUND(COUNT(*) / COUNT(DISTINCT(bike_number)),2) as avg_trips_per_bike, ROUND((SUM(duration_sec)/60 )/ COUNT(DISTINCT(bike_number)), 0) as avg_duration_per_bike FROM `bigquery-public-data.san_francisco.bikeshare_trips` WHERE EXTRACT(YEAR FROM start_date) = 2016 AND EXTRACT(MONTH FROM start_date) = 8 GROUP BY start_station_name, end_station_name ORDER BY total_trips DESC, avg_trips_per_bike DESC, avg_duration_per_bike DESC' LIMIT 20 > avg_utilization.csv"
   ]
  },
  {
   "cell_type": "code",
   "execution_count": 7,
   "metadata": {},
   "outputs": [],
   "source": [
    "df_avg_util = pd.read_csv('avg_utilization.csv')"
   ]
  },
  {
   "cell_type": "code",
   "execution_count": 8,
   "metadata": {},
   "outputs": [
    {
     "data": {
      "text/html": [
       "<div>\n",
       "<style scoped>\n",
       "    .dataframe tbody tr th:only-of-type {\n",
       "        vertical-align: middle;\n",
       "    }\n",
       "\n",
       "    .dataframe tbody tr th {\n",
       "        vertical-align: top;\n",
       "    }\n",
       "\n",
       "    .dataframe thead th {\n",
       "        text-align: right;\n",
       "    }\n",
       "</style>\n",
       "<table border=\"1\" class=\"dataframe\">\n",
       "  <thead>\n",
       "    <tr style=\"text-align: right;\">\n",
       "      <th></th>\n",
       "      <th>start_station_name</th>\n",
       "      <th>end_station_name</th>\n",
       "      <th>total_trips</th>\n",
       "      <th>total_time</th>\n",
       "      <th>unique_bikes</th>\n",
       "      <th>avg_trips_per_bike</th>\n",
       "      <th>avg_duration_per_bike</th>\n",
       "    </tr>\n",
       "  </thead>\n",
       "  <tbody>\n",
       "    <tr>\n",
       "      <th>0</th>\n",
       "      <td>Harry Bridges Plaza (Ferry Building)</td>\n",
       "      <td>Embarcadero at Sansome</td>\n",
       "      <td>353</td>\n",
       "      <td>6969.0</td>\n",
       "      <td>234</td>\n",
       "      <td>1.51</td>\n",
       "      <td>30.0</td>\n",
       "    </tr>\n",
       "    <tr>\n",
       "      <th>1</th>\n",
       "      <td>Market at 10th</td>\n",
       "      <td>San Francisco Caltrain 2 (330 Townsend)</td>\n",
       "      <td>328</td>\n",
       "      <td>3246.0</td>\n",
       "      <td>211</td>\n",
       "      <td>1.55</td>\n",
       "      <td>15.0</td>\n",
       "    </tr>\n",
       "    <tr>\n",
       "      <th>2</th>\n",
       "      <td>2nd at Townsend</td>\n",
       "      <td>Harry Bridges Plaza (Ferry Building)</td>\n",
       "      <td>291</td>\n",
       "      <td>2703.0</td>\n",
       "      <td>205</td>\n",
       "      <td>1.42</td>\n",
       "      <td>13.0</td>\n",
       "    </tr>\n",
       "    <tr>\n",
       "      <th>3</th>\n",
       "      <td>Harry Bridges Plaza (Ferry Building)</td>\n",
       "      <td>2nd at Townsend</td>\n",
       "      <td>263</td>\n",
       "      <td>2748.0</td>\n",
       "      <td>178</td>\n",
       "      <td>1.48</td>\n",
       "      <td>15.0</td>\n",
       "    </tr>\n",
       "    <tr>\n",
       "      <th>4</th>\n",
       "      <td>Embarcadero at Sansome</td>\n",
       "      <td>Steuart at Market</td>\n",
       "      <td>251</td>\n",
       "      <td>1713.0</td>\n",
       "      <td>184</td>\n",
       "      <td>1.36</td>\n",
       "      <td>9.0</td>\n",
       "    </tr>\n",
       "    <tr>\n",
       "      <th>5</th>\n",
       "      <td>Harry Bridges Plaza (Ferry Building)</td>\n",
       "      <td>San Francisco Caltrain (Townsend at 4th)</td>\n",
       "      <td>246</td>\n",
       "      <td>3318.0</td>\n",
       "      <td>174</td>\n",
       "      <td>1.41</td>\n",
       "      <td>19.0</td>\n",
       "    </tr>\n",
       "    <tr>\n",
       "      <th>6</th>\n",
       "      <td>San Francisco Caltrain 2 (330 Townsend)</td>\n",
       "      <td>Harry Bridges Plaza (Ferry Building)</td>\n",
       "      <td>241</td>\n",
       "      <td>2811.0</td>\n",
       "      <td>168</td>\n",
       "      <td>1.43</td>\n",
       "      <td>17.0</td>\n",
       "    </tr>\n",
       "    <tr>\n",
       "      <th>7</th>\n",
       "      <td>San Francisco Caltrain (Townsend at 4th)</td>\n",
       "      <td>Harry Bridges Plaza (Ferry Building)</td>\n",
       "      <td>217</td>\n",
       "      <td>2789.0</td>\n",
       "      <td>153</td>\n",
       "      <td>1.42</td>\n",
       "      <td>18.0</td>\n",
       "    </tr>\n",
       "    <tr>\n",
       "      <th>8</th>\n",
       "      <td>Embarcadero at Folsom</td>\n",
       "      <td>San Francisco Caltrain (Townsend at 4th)</td>\n",
       "      <td>213</td>\n",
       "      <td>2317.0</td>\n",
       "      <td>168</td>\n",
       "      <td>1.27</td>\n",
       "      <td>14.0</td>\n",
       "    </tr>\n",
       "    <tr>\n",
       "      <th>9</th>\n",
       "      <td>Steuart at Market</td>\n",
       "      <td>2nd at Townsend</td>\n",
       "      <td>208</td>\n",
       "      <td>2120.0</td>\n",
       "      <td>155</td>\n",
       "      <td>1.34</td>\n",
       "      <td>14.0</td>\n",
       "    </tr>\n",
       "    <tr>\n",
       "      <th>10</th>\n",
       "      <td>Market at Sansome</td>\n",
       "      <td>2nd at South Park</td>\n",
       "      <td>207</td>\n",
       "      <td>1203.0</td>\n",
       "      <td>154</td>\n",
       "      <td>1.34</td>\n",
       "      <td>8.0</td>\n",
       "    </tr>\n",
       "    <tr>\n",
       "      <th>11</th>\n",
       "      <td>Townsend at 7th</td>\n",
       "      <td>San Francisco Caltrain 2 (330 Townsend)</td>\n",
       "      <td>205</td>\n",
       "      <td>776.0</td>\n",
       "      <td>153</td>\n",
       "      <td>1.34</td>\n",
       "      <td>5.0</td>\n",
       "    </tr>\n",
       "    <tr>\n",
       "      <th>12</th>\n",
       "      <td>2nd at South Park</td>\n",
       "      <td>Market at Sansome</td>\n",
       "      <td>200</td>\n",
       "      <td>1149.0</td>\n",
       "      <td>146</td>\n",
       "      <td>1.37</td>\n",
       "      <td>8.0</td>\n",
       "    </tr>\n",
       "    <tr>\n",
       "      <th>13</th>\n",
       "      <td>Steuart at Market</td>\n",
       "      <td>San Francisco Caltrain (Townsend at 4th)</td>\n",
       "      <td>196</td>\n",
       "      <td>2294.0</td>\n",
       "      <td>149</td>\n",
       "      <td>1.32</td>\n",
       "      <td>15.0</td>\n",
       "    </tr>\n",
       "    <tr>\n",
       "      <th>14</th>\n",
       "      <td>2nd at Townsend</td>\n",
       "      <td>Market at Sansome</td>\n",
       "      <td>195</td>\n",
       "      <td>1389.0</td>\n",
       "      <td>146</td>\n",
       "      <td>1.34</td>\n",
       "      <td>10.0</td>\n",
       "    </tr>\n",
       "    <tr>\n",
       "      <th>15</th>\n",
       "      <td>Steuart at Market</td>\n",
       "      <td>Embarcadero at Sansome</td>\n",
       "      <td>195</td>\n",
       "      <td>2593.0</td>\n",
       "      <td>147</td>\n",
       "      <td>1.33</td>\n",
       "      <td>18.0</td>\n",
       "    </tr>\n",
       "    <tr>\n",
       "      <th>16</th>\n",
       "      <td>San Francisco Caltrain (Townsend at 4th)</td>\n",
       "      <td>Embarcadero at Folsom</td>\n",
       "      <td>195</td>\n",
       "      <td>1992.0</td>\n",
       "      <td>154</td>\n",
       "      <td>1.27</td>\n",
       "      <td>13.0</td>\n",
       "    </tr>\n",
       "    <tr>\n",
       "      <th>17</th>\n",
       "      <td>San Francisco Caltrain 2 (330 Townsend)</td>\n",
       "      <td>Townsend at 7th</td>\n",
       "      <td>187</td>\n",
       "      <td>797.0</td>\n",
       "      <td>141</td>\n",
       "      <td>1.33</td>\n",
       "      <td>6.0</td>\n",
       "    </tr>\n",
       "    <tr>\n",
       "      <th>18</th>\n",
       "      <td>San Francisco Caltrain 2 (330 Townsend)</td>\n",
       "      <td>Embarcadero at Folsom</td>\n",
       "      <td>185</td>\n",
       "      <td>1900.0</td>\n",
       "      <td>146</td>\n",
       "      <td>1.27</td>\n",
       "      <td>13.0</td>\n",
       "    </tr>\n",
       "    <tr>\n",
       "      <th>19</th>\n",
       "      <td>Howard at 2nd</td>\n",
       "      <td>San Francisco Caltrain (Townsend at 4th)</td>\n",
       "      <td>180</td>\n",
       "      <td>1538.0</td>\n",
       "      <td>140</td>\n",
       "      <td>1.29</td>\n",
       "      <td>11.0</td>\n",
       "    </tr>\n",
       "  </tbody>\n",
       "</table>\n",
       "</div>"
      ],
      "text/plain": [
       "                          start_station_name  \\\n",
       "0       Harry Bridges Plaza (Ferry Building)   \n",
       "1                             Market at 10th   \n",
       "2                            2nd at Townsend   \n",
       "3       Harry Bridges Plaza (Ferry Building)   \n",
       "4                     Embarcadero at Sansome   \n",
       "5       Harry Bridges Plaza (Ferry Building)   \n",
       "6    San Francisco Caltrain 2 (330 Townsend)   \n",
       "7   San Francisco Caltrain (Townsend at 4th)   \n",
       "8                      Embarcadero at Folsom   \n",
       "9                          Steuart at Market   \n",
       "10                         Market at Sansome   \n",
       "11                           Townsend at 7th   \n",
       "12                         2nd at South Park   \n",
       "13                         Steuart at Market   \n",
       "14                           2nd at Townsend   \n",
       "15                         Steuart at Market   \n",
       "16  San Francisco Caltrain (Townsend at 4th)   \n",
       "17   San Francisco Caltrain 2 (330 Townsend)   \n",
       "18   San Francisco Caltrain 2 (330 Townsend)   \n",
       "19                             Howard at 2nd   \n",
       "\n",
       "                            end_station_name  total_trips  total_time  \\\n",
       "0                     Embarcadero at Sansome          353      6969.0   \n",
       "1    San Francisco Caltrain 2 (330 Townsend)          328      3246.0   \n",
       "2       Harry Bridges Plaza (Ferry Building)          291      2703.0   \n",
       "3                            2nd at Townsend          263      2748.0   \n",
       "4                          Steuart at Market          251      1713.0   \n",
       "5   San Francisco Caltrain (Townsend at 4th)          246      3318.0   \n",
       "6       Harry Bridges Plaza (Ferry Building)          241      2811.0   \n",
       "7       Harry Bridges Plaza (Ferry Building)          217      2789.0   \n",
       "8   San Francisco Caltrain (Townsend at 4th)          213      2317.0   \n",
       "9                            2nd at Townsend          208      2120.0   \n",
       "10                         2nd at South Park          207      1203.0   \n",
       "11   San Francisco Caltrain 2 (330 Townsend)          205       776.0   \n",
       "12                         Market at Sansome          200      1149.0   \n",
       "13  San Francisco Caltrain (Townsend at 4th)          196      2294.0   \n",
       "14                         Market at Sansome          195      1389.0   \n",
       "15                    Embarcadero at Sansome          195      2593.0   \n",
       "16                     Embarcadero at Folsom          195      1992.0   \n",
       "17                           Townsend at 7th          187       797.0   \n",
       "18                     Embarcadero at Folsom          185      1900.0   \n",
       "19  San Francisco Caltrain (Townsend at 4th)          180      1538.0   \n",
       "\n",
       "    unique_bikes  avg_trips_per_bike  avg_duration_per_bike  \n",
       "0            234                1.51                   30.0  \n",
       "1            211                1.55                   15.0  \n",
       "2            205                1.42                   13.0  \n",
       "3            178                1.48                   15.0  \n",
       "4            184                1.36                    9.0  \n",
       "5            174                1.41                   19.0  \n",
       "6            168                1.43                   17.0  \n",
       "7            153                1.42                   18.0  \n",
       "8            168                1.27                   14.0  \n",
       "9            155                1.34                   14.0  \n",
       "10           154                1.34                    8.0  \n",
       "11           153                1.34                    5.0  \n",
       "12           146                1.37                    8.0  \n",
       "13           149                1.32                   15.0  \n",
       "14           146                1.34                   10.0  \n",
       "15           147                1.33                   18.0  \n",
       "16           154                1.27                   13.0  \n",
       "17           141                1.33                    6.0  \n",
       "18           146                1.27                   13.0  \n",
       "19           140                1.29                   11.0  "
      ]
     },
     "execution_count": 8,
     "metadata": {},
     "output_type": "execute_result"
    }
   ],
   "source": [
    "df_avg_util"
   ]
  },
  {
   "cell_type": "markdown",
   "metadata": {},
   "source": [
    "We see that the bikes are under utilized. The highest average number of trips per bike for the month of August 2016 was only 1.51  which is extremely low.  \n",
    "\n",
    "Therefore, our recommendatiion for Ford GoBike is make changes to the existing plans in order to increase ridership. \n",
    "\n",
    "1: Charge \\$3 for the first 30 mins (as per current charges) and charge $2 every additional 30 mins.\n",
    "\n",
    "2: Offer loyalty points.  Every trip is counted as 1 point.  When customer earns 200 points, they can get 1 month free subscription.\n"
   ]
  },
  {
   "cell_type": "markdown",
   "metadata": {},
   "source": [
    "#### What are the top 5 popular trips commuter trips?"
   ]
  },
  {
   "cell_type": "code",
   "execution_count": 21,
   "metadata": {},
   "outputs": [
    {
     "name": "stdout",
     "output_type": "stream",
     "text": [
      "\r",
      "Waiting on bqjob_r4d172aded896dedb_00000166520b2168_1 ... (0s) Current status: DONE   "
     ]
    }
   ],
   "source": [
    "! bq query --use_legacy_sql=false --format=csv 'SELECT start_station_name, end_station_name, count(*) as num_trips FROM `bigquery-public-data.san_francisco.bikeshare_trips` GROUP BY start_station_name, end_station_name ORDER BY num_trips DESC LIMIT 5' > pop_trips.csv"
   ]
  },
  {
   "cell_type": "code",
   "execution_count": 9,
   "metadata": {},
   "outputs": [],
   "source": [
    "df_pop_trips = pd.read_csv('pop_trips.csv')"
   ]
  },
  {
   "cell_type": "code",
   "execution_count": 10,
   "metadata": {},
   "outputs": [
    {
     "data": {
      "text/html": [
       "<div>\n",
       "<style scoped>\n",
       "    .dataframe tbody tr th:only-of-type {\n",
       "        vertical-align: middle;\n",
       "    }\n",
       "\n",
       "    .dataframe tbody tr th {\n",
       "        vertical-align: top;\n",
       "    }\n",
       "\n",
       "    .dataframe thead th {\n",
       "        text-align: right;\n",
       "    }\n",
       "</style>\n",
       "<table border=\"1\" class=\"dataframe\">\n",
       "  <thead>\n",
       "    <tr style=\"text-align: right;\">\n",
       "      <th></th>\n",
       "      <th>start_station_name</th>\n",
       "      <th>end_station_name</th>\n",
       "      <th>num_trips</th>\n",
       "    </tr>\n",
       "  </thead>\n",
       "  <tbody>\n",
       "    <tr>\n",
       "      <th>0</th>\n",
       "      <td>Harry Bridges Plaza (Ferry Building)</td>\n",
       "      <td>Embarcadero at Sansome</td>\n",
       "      <td>9150</td>\n",
       "    </tr>\n",
       "    <tr>\n",
       "      <th>1</th>\n",
       "      <td>San Francisco Caltrain 2 (330 Townsend)</td>\n",
       "      <td>Townsend at 7th</td>\n",
       "      <td>8508</td>\n",
       "    </tr>\n",
       "    <tr>\n",
       "      <th>2</th>\n",
       "      <td>2nd at Townsend</td>\n",
       "      <td>Harry Bridges Plaza (Ferry Building)</td>\n",
       "      <td>7620</td>\n",
       "    </tr>\n",
       "    <tr>\n",
       "      <th>3</th>\n",
       "      <td>Harry Bridges Plaza (Ferry Building)</td>\n",
       "      <td>2nd at Townsend</td>\n",
       "      <td>6888</td>\n",
       "    </tr>\n",
       "    <tr>\n",
       "      <th>4</th>\n",
       "      <td>Embarcadero at Sansome</td>\n",
       "      <td>Steuart at Market</td>\n",
       "      <td>6874</td>\n",
       "    </tr>\n",
       "  </tbody>\n",
       "</table>\n",
       "</div>"
      ],
      "text/plain": [
       "                        start_station_name  \\\n",
       "0     Harry Bridges Plaza (Ferry Building)   \n",
       "1  San Francisco Caltrain 2 (330 Townsend)   \n",
       "2                          2nd at Townsend   \n",
       "3     Harry Bridges Plaza (Ferry Building)   \n",
       "4                   Embarcadero at Sansome   \n",
       "\n",
       "                       end_station_name  num_trips  \n",
       "0                Embarcadero at Sansome       9150  \n",
       "1                       Townsend at 7th       8508  \n",
       "2  Harry Bridges Plaza (Ferry Building)       7620  \n",
       "3                       2nd at Townsend       6888  \n",
       "4                     Steuart at Market       6874  "
      ]
     },
     "execution_count": 10,
     "metadata": {},
     "output_type": "execute_result"
    }
   ],
   "source": [
    "df_pop_trips"
   ]
  },
  {
   "cell_type": "code",
   "execution_count": 11,
   "metadata": {},
   "outputs": [
    {
     "data": {
      "text/plain": [
       "<matplotlib.axes._subplots.AxesSubplot at 0x7f7769a78f98>"
      ]
     },
     "execution_count": 11,
     "metadata": {},
     "output_type": "execute_result"
    },
    {
     "data": {
      "image/png": "[encoded data removed]",
      "text/plain": [
       "<Figure size 432x288 with 1 Axes>"
      ]
     },
     "metadata": {},
     "output_type": "display_data"
    }
   ],
   "source": [
    "df_pop_trips.num_trips.hist()"
   ]
  },
  {
   "cell_type": "markdown",
   "metadata": {},
   "source": [
    "#### What are the top 5 popular commuter trips (subscriber only)?\n",
    "\n",
    "The following is the top 5 popular commuter trips for subscribers only"
   ]
  },
  {
   "cell_type": "code",
   "execution_count": 16,
   "metadata": {},
   "outputs": [
    {
     "name": "stdout",
     "output_type": "stream",
     "text": [
      "Waiting on bqjob_r4fd1ab467964098_00000166513cbc3f_1 ... (0s) Current status: DONE   \n",
      "+-----------------------------------------+-----------------------------------------+-----------+\n",
      "|           start_station_name            |            end_station_name             | num_trips |\n",
      "+-----------------------------------------+-----------------------------------------+-----------+\n",
      "| San Francisco Caltrain 2 (330 Townsend) | Townsend at 7th                         |      8305 |\n",
      "| 2nd at Townsend                         | Harry Bridges Plaza (Ferry Building)    |      6931 |\n",
      "| Townsend at 7th                         | San Francisco Caltrain 2 (330 Townsend) |      6641 |\n",
      "| Harry Bridges Plaza (Ferry Building)    | 2nd at Townsend                         |      6332 |\n",
      "| Embarcadero at Sansome                  | Steuart at Market                       |      6200 |\n",
      "+-----------------------------------------+-----------------------------------------+-----------+\n"
     ]
    }
   ],
   "source": [
    "! bq query --use_legacy_sql=false 'SELECT start_station_name, end_station_name, count(*) as num_trips FROM `bigquery-public-data.san_francisco.bikeshare_trips` WHERE subscriber_type = \"Subscriber\" GROUP BY start_station_name, end_station_name ORDER BY num_trips DESC LIMIT 5'"
   ]
  },
  {
   "cell_type": "code",
   "execution_count": null,
   "metadata": {},
   "outputs": [],
   "source": []
  },
  {
   "cell_type": "code",
   "execution_count": null,
   "metadata": {},
   "outputs": [],
   "source": []
  }
 ],
 "metadata": {
  "kernelspec": {
   "display_name": "Python 3",
   "language": "python",
   "name": "python3"
  },
  "language_info": {
   "codemirror_mode": {
    "name": "ipython",
    "version": 3
   },
   "file_extension": ".py",
   "mimetype": "text/x-python",
   "name": "python",
   "nbconvert_exporter": "python",
   "pygments_lexer": "ipython3",
   "version": "3.5.2"
  }
 },
 "nbformat": 4,
 "nbformat_minor": 2
}
